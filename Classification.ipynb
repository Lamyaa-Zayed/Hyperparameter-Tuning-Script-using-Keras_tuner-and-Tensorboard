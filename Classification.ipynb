{
 "cells": [
  {
   "cell_type": "code",
   "execution_count": 9,
   "id": "8b6923af-c7ca-4eaa-b07c-3189a84a9f0b",
   "metadata": {},
   "outputs": [],
   "source": [
    "# !pip install tensorboard"
   ]
  },
  {
   "cell_type": "code",
   "execution_count": 7,
   "id": "256bbb70-a131-46ed-9f68-8ce7c30a8202",
   "metadata": {},
   "outputs": [],
   "source": [
    "import keras_tuner as kt\n",
    "import tensorflow as tf"
   ]
  },
  {
   "cell_type": "code",
   "execution_count": 10,
   "id": "cb87f461-f5c2-4be0-8012-8f0d0fed6539",
   "metadata": {},
   "outputs": [],
   "source": [
    "import numpy as np\n",
    "from sklearn import datasets\n",
    "from sklearn.model_selection import train_test_split"
   ]
  },
  {
   "cell_type": "code",
   "execution_count": 11,
   "id": "62d08ba0-7570-4f34-995d-12c5e261ecde",
   "metadata": {},
   "outputs": [],
   "source": [
    "#\n",
    "# Import Keras modules\n",
    "#\n",
    "from tensorflow.keras import models\n",
    "from tensorflow.keras import layers\n",
    "from tensorflow.keras import Input\n",
    "from tensorflow.keras.optimizers import Adam, RMSprop\n",
    "from tensorflow.keras.utils import to_categorical"
   ]
  },
  {
   "cell_type": "code",
   "execution_count": 12,
   "id": "4f5e586a-4dd6-4b8a-a48f-687acd639bb0",
   "metadata": {},
   "outputs": [],
   "source": [
    "from datetime import datetime\n",
    "now = datetime.now()\n",
    "logdir_tuner = \"test_logs_/\" + now.strftime(\"%Y%m%d-%H%M%S\") + \"/\" + \"Tuner\"\n",
    "logdir_tensorboard = \"test_logs_/\" + now.strftime(\"%Y%m%d-%H%M%S\") + \"/\" + \"TensorBoard\""
   ]
  },
  {
   "cell_type": "code",
   "execution_count": 13,
   "id": "0eaecc70-1b08-4ba1-82ef-8a6d02d610d1",
   "metadata": {},
   "outputs": [],
   "source": [
    "#\n",
    "# Load the iris dataset\n",
    "#\n",
    "iris = datasets.load_iris()\n",
    "X = iris.data\n",
    "y = iris.target\n",
    "#\n",
    "\n",
    "X_train, X_test, y_train, y_test = train_test_split(X, y, test_size=0.3, stratify=y, random_state=42)"
   ]
  },
  {
   "cell_type": "code",
   "execution_count": 6,
   "id": "ae108641-901b-4bf5-99a2-47072565ad6a",
   "metadata": {},
   "outputs": [],
   "source": [
    "# def _model(hp):\n",
    "#     model = tf.keras.Sequential([\n",
    "#         layers.Dense(\n",
    "#             hp.Int(\"dense_1_units\", min_value=4, max_value=12, step=4, default=8),\n",
    "#             input_shape=(X_train.shape[1],)\n",
    "            \n",
    "#         ),\n",
    "#         layers.Dense(\n",
    "#             hp.Int(\"dense_2_units\", min_value=4, max_value=12, step=4, default=8), \n",
    "#             activation=\"relu\"\n",
    "#         ),\n",
    "#         layers.Dense(3, activation=\"softmax\"),\n",
    "#     ])\n",
    "\n",
    "#     model.compile(\n",
    "#         optimizer=tf.keras.optimizers.Adam(\n",
    "#             hp.Choice(\"learning_rate\", values=[1e-2, 1e-3])\n",
    "#         ),\n",
    "#         loss=\"categorical_crossentropy\",\n",
    "#         metrics=[\"accuracy\"]\n",
    "#     )\n",
    "#     return model"
   ]
  },
  {
   "cell_type": "code",
   "execution_count": 14,
   "id": "7c869cef-6f78-4150-803d-eb8288057c90",
   "metadata": {},
   "outputs": [
    {
     "data": {
      "text/plain": [
       "3"
      ]
     },
     "execution_count": 14,
     "metadata": {},
     "output_type": "execute_result"
    }
   ],
   "source": [
    "import numpy as np\n",
    "import pandas as pd\n",
    "pd.Series(y_train).unique().size"
   ]
  },
  {
   "cell_type": "code",
   "execution_count": 15,
   "id": "c498d037-3e93-4a99-a61a-53d6864d5b59",
   "metadata": {},
   "outputs": [],
   "source": [
    "def classification_model(hp):\n",
    "    inputs = Input(shape = X_train.shape[1])\n",
    "    hidden = inputs\n",
    "    \n",
    "    hp_layers = hp.Int(\"Dense_layers\", min_value=1, max_value=3, step=1, default=3)\n",
    "    hp_dropout = hp.Choice(\"Dropout_layer\", [0.1, 0.2, 0.3], default=0.2)\n",
    "        \n",
    "    for i in range(hp_layers):\n",
    "        hidden = layers.Dense(hp.Choice(\"dense_units_\" + str(i), [16, 32, 64], default=16),\n",
    "                              activation=hp.Choice(\"activation_\" + str(i), ['relu', 'tanh']))(hidden)\n",
    "        hidden = layers.Dropout(hp_dropout)(hidden)\n",
    "    \n",
    "    outputs = layers.Dense(pd.Series(y_train).unique().size, \n",
    "                           activation=\"softmax\")(hidden)\n",
    "    \n",
    "    model = tf.keras.Model(inputs, outputs)\n",
    "\n",
    "    model.compile(\n",
    "        optimizer=tf.keras.optimizers.Adam(\n",
    "            hp.Choice(\"learning_rate\", values=[1e-2, 1e-3])\n",
    "        ),\n",
    "        loss=\"categorical_crossentropy\",\n",
    "        metrics=[\"accuracy\"]\n",
    "    )\n",
    "    return model"
   ]
  },
  {
   "cell_type": "code",
   "execution_count": 16,
   "id": "361137ec-af98-4678-a448-4522df36e1e7",
   "metadata": {},
   "outputs": [],
   "source": [
    "tuner = kt.RandomSearch(\n",
    "    classification_model,\n",
    "    objective=\"val_accuracy\",\n",
    "    max_trials=10,\n",
    "    overwrite=True,\n",
    "    directory=logdir_tuner,\n",
    "    project_name=\"keras-tuner-test\",\n",
    ")"
   ]
  },
  {
   "cell_type": "code",
   "execution_count": 17,
   "id": "20dd7578-c14d-437e-a186-1a90826c8ba3",
   "metadata": {},
   "outputs": [
    {
     "name": "stdout",
     "output_type": "stream",
     "text": [
      "Search space summary\n",
      "Default search space size: 9\n",
      "Dense_layers (Int)\n",
      "{'default': 3, 'conditions': [], 'min_value': 1, 'max_value': 3, 'step': 1, 'sampling': None}\n",
      "Dropout_layer (Choice)\n",
      "{'default': 0.2, 'conditions': [], 'values': [0.1, 0.2, 0.3], 'ordered': True}\n",
      "dense_units_0 (Choice)\n",
      "{'default': 16, 'conditions': [], 'values': [16, 32, 64], 'ordered': True}\n",
      "activation_0 (Choice)\n",
      "{'default': 'relu', 'conditions': [], 'values': ['relu', 'tanh'], 'ordered': False}\n",
      "dense_units_1 (Choice)\n",
      "{'default': 16, 'conditions': [], 'values': [16, 32, 64], 'ordered': True}\n",
      "activation_1 (Choice)\n",
      "{'default': 'relu', 'conditions': [], 'values': ['relu', 'tanh'], 'ordered': False}\n",
      "dense_units_2 (Choice)\n",
      "{'default': 16, 'conditions': [], 'values': [16, 32, 64], 'ordered': True}\n",
      "activation_2 (Choice)\n",
      "{'default': 'relu', 'conditions': [], 'values': ['relu', 'tanh'], 'ordered': False}\n",
      "learning_rate (Choice)\n",
      "{'default': 0.01, 'conditions': [], 'values': [0.01, 0.001], 'ordered': True}\n"
     ]
    }
   ],
   "source": [
    "tuner.search_space_summary()"
   ]
  },
  {
   "cell_type": "code",
   "execution_count": 18,
   "id": "19bfe449-e2c0-4c9a-8a8f-292ca87e0b9f",
   "metadata": {},
   "outputs": [
    {
     "name": "stdout",
     "output_type": "stream",
     "text": [
      "Trial 10 Complete [00h 00m 00s]\n",
      "val_accuracy: 0.8666666746139526\n",
      "\n",
      "Best val_accuracy So Far: 0.9777777791023254\n",
      "Total elapsed time: 00h 00m 09s\n",
      "INFO:tensorflow:Oracle triggered exit\n"
     ]
    }
   ],
   "source": [
    "tuner.search(\n",
    "    X_train[:,:], \n",
    "    to_categorical(y_train), \n",
    "    epochs=5, \n",
    "    validation_data=(X_test[:,:], to_categorical(y_test)),\n",
    "    callbacks=[tf.keras.callbacks.TensorBoard(logdir_tensorboard)]\n",
    ")"
   ]
  },
  {
   "cell_type": "code",
   "execution_count": 19,
   "id": "1006b594-6fdd-405e-b985-0144a9816734",
   "metadata": {},
   "outputs": [
    {
     "name": "stdout",
     "output_type": "stream",
     "text": [
      "Results summary\n",
      "Results in test_logs_/20220424-013354/Tuner\\keras-tuner-test\n",
      "Showing 10 best trials\n",
      "<keras_tuner.engine.objective.Objective object at 0x000002149C1D8F70>\n",
      "Trial summary\n",
      "Hyperparameters:\n",
      "Dense_layers: 1\n",
      "Dropout_layer: 0.2\n",
      "dense_units_0: 32\n",
      "activation_0: tanh\n",
      "dense_units_1: 16\n",
      "activation_1: tanh\n",
      "dense_units_2: 16\n",
      "activation_2: relu\n",
      "learning_rate: 0.01\n",
      "Score: 0.9777777791023254\n",
      "Trial summary\n",
      "Hyperparameters:\n",
      "Dense_layers: 3\n",
      "Dropout_layer: 0.2\n",
      "dense_units_0: 32\n",
      "activation_0: tanh\n",
      "dense_units_1: 32\n",
      "activation_1: tanh\n",
      "dense_units_2: 16\n",
      "activation_2: tanh\n",
      "learning_rate: 0.001\n",
      "Score: 0.9777777791023254\n",
      "Trial summary\n",
      "Hyperparameters:\n",
      "Dense_layers: 2\n",
      "Dropout_layer: 0.1\n",
      "dense_units_0: 32\n",
      "activation_0: tanh\n",
      "dense_units_1: 32\n",
      "activation_1: relu\n",
      "dense_units_2: 32\n",
      "activation_2: relu\n",
      "learning_rate: 0.01\n",
      "Score: 0.9555555582046509\n",
      "Trial summary\n",
      "Hyperparameters:\n",
      "Dense_layers: 3\n",
      "Dropout_layer: 0.2\n",
      "dense_units_0: 64\n",
      "activation_0: relu\n",
      "dense_units_1: 64\n",
      "activation_1: tanh\n",
      "dense_units_2: 64\n",
      "activation_2: tanh\n",
      "learning_rate: 0.01\n",
      "Score: 0.9333333373069763\n",
      "Trial summary\n",
      "Hyperparameters:\n",
      "Dense_layers: 2\n",
      "Dropout_layer: 0.3\n",
      "dense_units_0: 64\n",
      "activation_0: relu\n",
      "dense_units_1: 32\n",
      "activation_1: relu\n",
      "dense_units_2: 64\n",
      "activation_2: relu\n",
      "learning_rate: 0.01\n",
      "Score: 0.8888888955116272\n",
      "Trial summary\n",
      "Hyperparameters:\n",
      "Dense_layers: 1\n",
      "Dropout_layer: 0.3\n",
      "dense_units_0: 32\n",
      "activation_0: tanh\n",
      "dense_units_1: 32\n",
      "activation_1: tanh\n",
      "dense_units_2: 32\n",
      "activation_2: tanh\n",
      "learning_rate: 0.01\n",
      "Score: 0.8666666746139526\n",
      "Trial summary\n",
      "Hyperparameters:\n",
      "Dense_layers: 2\n",
      "Dropout_layer: 0.3\n",
      "dense_units_0: 32\n",
      "activation_0: relu\n",
      "dense_units_1: 16\n",
      "activation_1: relu\n",
      "dense_units_2: 16\n",
      "activation_2: tanh\n",
      "learning_rate: 0.01\n",
      "Score: 0.6666666865348816\n",
      "Trial summary\n",
      "Hyperparameters:\n",
      "Dense_layers: 2\n",
      "Dropout_layer: 0.1\n",
      "dense_units_0: 16\n",
      "activation_0: relu\n",
      "dense_units_1: 32\n",
      "activation_1: tanh\n",
      "dense_units_2: 16\n",
      "activation_2: tanh\n",
      "learning_rate: 0.001\n",
      "Score: 0.6666666865348816\n",
      "Trial summary\n",
      "Hyperparameters:\n",
      "Dense_layers: 3\n",
      "Dropout_layer: 0.2\n",
      "dense_units_0: 32\n",
      "activation_0: tanh\n",
      "dense_units_1: 32\n",
      "activation_1: tanh\n",
      "dense_units_2: 32\n",
      "activation_2: relu\n",
      "learning_rate: 0.001\n",
      "Score: 0.6666666865348816\n",
      "Trial summary\n",
      "Hyperparameters:\n",
      "Dense_layers: 1\n",
      "Dropout_layer: 0.2\n",
      "dense_units_0: 16\n",
      "activation_0: relu\n",
      "dense_units_1: 64\n",
      "activation_1: tanh\n",
      "dense_units_2: 64\n",
      "activation_2: tanh\n",
      "learning_rate: 0.001\n",
      "Score: 0.13333334028720856\n"
     ]
    }
   ],
   "source": [
    "tuner.results_summary()"
   ]
  },
  {
   "cell_type": "code",
   "execution_count": 20,
   "id": "59783362-622e-42ed-8d90-a0603e062ab0",
   "metadata": {},
   "outputs": [],
   "source": [
    "model = tuner.get_best_models(num_models=1)[0]"
   ]
  },
  {
   "cell_type": "code",
   "execution_count": 21,
   "id": "0fdbe759-9bb3-4b7d-92de-085db6ec0bba",
   "metadata": {},
   "outputs": [
    {
     "data": {
      "text/plain": [
       "97.77777777777777"
      ]
     },
     "execution_count": 21,
     "metadata": {},
     "output_type": "execute_result"
    }
   ],
   "source": [
    "y_pred = np.argmax(model.predict(X_test), axis=-1)\n",
    "accuracy = np.sum(y_pred == y_test) / len(y_test) * 100\n",
    "accuracy"
   ]
  },
  {
   "cell_type": "code",
   "execution_count": 22,
   "id": "b13f990d-fc24-4591-9592-d323461449ee",
   "metadata": {},
   "outputs": [],
   "source": [
    "import tensorboard"
   ]
  },
  {
   "cell_type": "code",
   "execution_count": 23,
   "id": "e473a6cf-449c-42a0-baa0-6ad8313e84e4",
   "metadata": {},
   "outputs": [],
   "source": [
    "%load_ext tensorboard"
   ]
  },
  {
   "cell_type": "code",
   "execution_count": 24,
   "id": "ad9063bd-26d1-41b2-9591-d8cf552201eb",
   "metadata": {},
   "outputs": [
    {
     "data": {
      "text/plain": [
       "'test_logs_/20220424-013354/TensorBoard'"
      ]
     },
     "execution_count": 24,
     "metadata": {},
     "output_type": "execute_result"
    }
   ],
   "source": [
    "logdir_tensorboard"
   ]
  },
  {
   "cell_type": "code",
   "execution_count": 18,
   "id": "ccee5b0b-a8f4-4d5e-966b-ac945a6d7f75",
   "metadata": {},
   "outputs": [
    {
     "data": {
      "text/plain": [
       "<keras_tuner.engine.hyperparameters.HyperParameters at 0x278293370a0>"
      ]
     },
     "execution_count": 18,
     "metadata": {},
     "output_type": "execute_result"
    }
   ],
   "source": [
    "tuner.get_best_hyperparameters()[0]"
   ]
  },
  {
   "cell_type": "code",
   "execution_count": 25,
   "id": "02d97604-7066-42a6-bddb-79cdbcf094ff",
   "metadata": {},
   "outputs": [],
   "source": [
    "# tensorboard --inspect --logdir 'logdir_tensorboard'\n"
   ]
  },
  {
   "cell_type": "code",
   "execution_count": 26,
   "id": "6acd175a-4502-4d25-b8bb-3f365302d0b9",
   "metadata": {},
   "outputs": [
    {
     "data": {
      "text/html": [
       "\n",
       "      <iframe id=\"tensorboard-frame-ddbf4afef468c868\" width=\"100%\" height=\"800\" frameborder=\"0\">\n",
       "      </iframe>\n",
       "      <script>\n",
       "        (function() {\n",
       "          const frame = document.getElementById(\"tensorboard-frame-ddbf4afef468c868\");\n",
       "          const url = new URL(\"/\", window.location);\n",
       "          const port = 6006;\n",
       "          if (port) {\n",
       "            url.port = port;\n",
       "          }\n",
       "          frame.src = url;\n",
       "        })();\n",
       "      </script>\n",
       "    "
      ],
      "text/plain": [
       "<IPython.core.display.HTML object>"
      ]
     },
     "metadata": {},
     "output_type": "display_data"
    }
   ],
   "source": [
    "%tensorboard --logdir \"$logdir_tensorboard\""
   ]
  },
  {
   "cell_type": "code",
   "execution_count": null,
   "id": "71ad31f7-e6e5-42e2-bc7b-7ace5792623d",
   "metadata": {},
   "outputs": [],
   "source": []
  }
 ],
 "metadata": {
  "kernelspec": {
   "display_name": "Python 3 (ipykernel)",
   "language": "python",
   "name": "python3"
  },
  "language_info": {
   "codemirror_mode": {
    "name": "ipython",
    "version": 3
   },
   "file_extension": ".py",
   "mimetype": "text/x-python",
   "name": "python",
   "nbconvert_exporter": "python",
   "pygments_lexer": "ipython3",
   "version": "3.9.7"
  }
 },
 "nbformat": 4,
 "nbformat_minor": 5
}
