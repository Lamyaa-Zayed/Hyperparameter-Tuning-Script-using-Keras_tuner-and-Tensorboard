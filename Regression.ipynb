{
 "cells": [
  {
   "cell_type": "code",
   "execution_count": 87,
   "id": "1b5375c9",
   "metadata": {},
   "outputs": [],
   "source": [
    "import tensorflow as tf"
   ]
  },
  {
   "cell_type": "code",
   "execution_count": 88,
   "id": "1e548374-5c80-4a02-a509-1d01b849cf4a",
   "metadata": {},
   "outputs": [],
   "source": [
    "import keras_tuner as kt\n"
   ]
  },
  {
   "cell_type": "code",
   "execution_count": 89,
   "id": "f391e472-6b69-4486-96a5-73f6d72da007",
   "metadata": {},
   "outputs": [],
   "source": [
    "import numpy as np\n",
    "import pandas as pd\n",
    "import math\n",
    "import matplotlib.pyplot as plt\n",
    "from sklearn import datasets\n",
    "from sklearn.model_selection import train_test_split"
   ]
  },
  {
   "cell_type": "code",
   "execution_count": 90,
   "id": "1d17a2fb-daa7-4d7c-b9b6-10e9ee6229fa",
   "metadata": {},
   "outputs": [],
   "source": [
    "#\n",
    "# Import Keras modules\n",
    "#\n",
    "from tensorflow.keras import models\n",
    "from tensorflow.keras import layers\n",
    "from tensorflow.keras import Input\n",
    "from tensorflow.keras.optimizers import Adam, RMSprop\n",
    "from tensorflow.keras.utils import to_categorical\n",
    "\n",
    "from tensorflow.keras import Model\n",
    "from tensorflow.keras import Sequential\n",
    "from sklearn.preprocessing import StandardScaler\n",
    "from tensorflow.keras.layers import Dense, Dropout\n",
    "from tensorflow.keras.losses import MeanSquaredLogarithmicError"
   ]
  },
  {
   "cell_type": "code",
   "execution_count": 91,
   "id": "99188e2c-00ff-477a-86fd-eb2f3aed35da",
   "metadata": {},
   "outputs": [],
   "source": [
    "from datetime import datetime\n",
    "now = datetime.now()\n",
    "logdir_tuner = \"tf_logs/\" + now.strftime(\"%Y%m%d-%H%M%S\") + \"/\" + \"Tuner\"\n",
    "logdir_tensorboard = \"tf_logs/\" + now.strftime(\"%Y%m%d-%H%M%S\") + \"/\" + \"TensorBoard\""
   ]
  },
  {
   "cell_type": "code",
   "execution_count": 92,
   "id": "631e7d77-c2d3-4d8b-bb83-80544eae3917",
   "metadata": {},
   "outputs": [],
   "source": [
    "#\n",
    "# Load the reg boston housing dataset\n",
    "#\n",
    "boston = datasets.load_boston()\n",
    "X = boston.data\n",
    "y = boston.target\n",
    "#\n",
    "# Split data\n",
    "#\n",
    "X_train, X_test, y_train, y_test = train_test_split(X, y, test_size=0.3, random_state=42)"
   ]
  },
  {
   "cell_type": "code",
   "execution_count": 93,
   "id": "8308cebb-61f8-4b7d-950c-4b6a27a05e6c",
   "metadata": {},
   "outputs": [],
   "source": [
    "# boston.feature_names"
   ]
  },
  {
   "cell_type": "code",
   "execution_count": 94,
   "id": "0276a1ce-023f-4fd2-8863-1284b361325c",
   "metadata": {},
   "outputs": [],
   "source": [
    "# y"
   ]
  },
  {
   "cell_type": "code",
   "execution_count": 95,
   "id": "3c603fdf-31a2-4ccf-a2b7-741d502fad6a",
   "metadata": {},
   "outputs": [],
   "source": [
    "# df = pd.DataFrame(X,y)\n",
    "# df"
   ]
  },
  {
   "cell_type": "code",
   "execution_count": 96,
   "id": "0f672063-4464-42c2-8f09-7343ac70afa1",
   "metadata": {},
   "outputs": [
    {
     "data": {
      "text/plain": [
       "195"
      ]
     },
     "execution_count": 96,
     "metadata": {},
     "output_type": "execute_result"
    }
   ],
   "source": [
    "pd.Series(y_train).unique().size"
   ]
  },
  {
   "cell_type": "code",
   "execution_count": 97,
   "id": "47dcfe6c-4d44-4fde-b3d7-c7bb46c01af0",
   "metadata": {},
   "outputs": [
    {
     "data": {
      "text/plain": [
       "13"
      ]
     },
     "execution_count": 97,
     "metadata": {},
     "output_type": "execute_result"
    }
   ],
   "source": [
    "X_train.shape[1]"
   ]
  },
  {
   "cell_type": "code",
   "execution_count": 98,
   "id": "b91cdf0e-e39e-413e-b6d8-8c6130ebb89d",
   "metadata": {},
   "outputs": [],
   "source": [
    "# def regression_model(hp):\n",
    "#     inputs = Input(shape = X_train.shape[1])\n",
    "#     hidden = inputs\n",
    "    \n",
    "#     hp_layers = hp.Int(\"Dense_layers\", min_value=1, max_value=3, step=1, default=3)\n",
    "#     hp_dropout = hp.Choice(\"Dropout_layer\", [0.1, 0.2, 0.3], default=0.2)\n",
    "        \n",
    "#     for i in range(hp_layers):\n",
    "#         hidden = layers.Dense(hp.Choice(\"dense_units_\" + str(i), [16, 32, 64], default=16),\n",
    "#                               activation=hp.Choice(\"activation_\" + str(i), ['relu', 'tanh']))(hidden)\n",
    "#         hidden = layers.Dropout(hp_dropout)(hidden)\n",
    "    \n",
    "#     outputs = layers.Dense(pd.Series(y_train).unique().size, \n",
    "#                            activation=\"softmax\")(hidden)\n",
    "    \n",
    "#     model = tf.keras.Model(inputs, outputs)\n",
    "\n",
    "#     model.compile(\n",
    "#         optimizer=tf.keras.optimizers.Adam(\n",
    "#             hp.Choice(\"learning_rate\", values=[1e-2, 1e-3])\n",
    "#         ),\n",
    "#         loss=\"categorical_crossentropy\",\n",
    "#         metrics=[\"accuracy\"]\n",
    "#     )\n",
    "#     return model"
   ]
  },
  {
   "cell_type": "code",
   "execution_count": 99,
   "id": "5fa18533-e71e-46f0-8ea4-c925ce459c30",
   "metadata": {},
   "outputs": [],
   "source": [
    "# from kerastuner import HyperModel\n",
    "\n",
    "# class RegressionHyperModel(HyperModel):\n",
    "#     def __init__(self, input_shape):\n",
    "#         self.input_shape = input_shape\n",
    "#     def build(self, hp):\n",
    "#         model = Sequential()\n",
    "#         model.add(\n",
    "#             layers.Dense(\n",
    "#                 units=hp.Int('units', 8, 64, 4, default=8),\n",
    "#                 activation=hp.Choice('dense_activation', values=['relu', 'tanh', 'sigmoid'], default='relu'),\n",
    "#                 input_shape=input_shape\n",
    "#             )\n",
    "#         )\n",
    "        \n",
    "#         model.add(\n",
    "#             layers.Dense(\n",
    "#                 units=hp.Int('units', 16, 64, 4, default=16),\n",
    "#                 activation=hp.Choice('dense_activation',values=['relu', 'tanh', 'sigmoid'], default='relu')\n",
    "#             )\n",
    "#         )\n",
    "        \n",
    "#         model.add(\n",
    "#             layers.Dropout( hp.Float('dropout', min_value=0.0, max_value=0.1, default=0.005,step=0.01)\n",
    "#             )\n",
    "#         )\n",
    "        \n",
    "#         model.add(layers.Dense(1))\n",
    "        \n",
    "#         model.compile(\n",
    "#             optimizer='rmsprop',loss='mse',metrics=['mse']\n",
    "#         )\n",
    "        \n",
    "#         return model\n",
    "\n",
    "# input_shape = (x_train.shape[1],)\n",
    "# hypermodel = RegressionHyperModel(input_shape)\n",
    "\n",
    "# tuner_rs = RandomSearch(\n",
    "#             hypermodel,\n",
    "#             objective='mse',\n",
    "#             seed=42,\n",
    "#             max_trials=10,\n",
    "#             executions_per_trial=2)\n",
    "\n",
    "# tuner_rs.search(x_train_scaled, y_train, epochs=10, validation_split=0.2, verbose=0)\n",
    "\n",
    "# best_model = tuner_rs.get_best_models(num_models=1)[0]\n",
    "# loss, mse = best_model.evaluate(x_test_scaled, y_test)"
   ]
  },
  {
   "cell_type": "code",
   "execution_count": 100,
   "id": "2ab8be98-70bc-44e7-b341-9ee1a036377a",
   "metadata": {},
   "outputs": [],
   "source": [
    "msle = MeanSquaredLogarithmicError()\n",
    "\n",
    "\n",
    "def build_model(hp):\n",
    "    model = tf.keras.Sequential()\n",
    "\n",
    "    # Tune the number of units in the first Dense layer\n",
    "    # Choose an optimal value between 32-512\n",
    "    hp_units1 = hp.Int('units1', min_value=32, max_value=512, step=32)\n",
    "    hp_units2 = hp.Int('units2', min_value=32, max_value=512, step=32)\n",
    "    hp_units3 = hp.Int('units3', min_value=32, max_value=512, step=32)\n",
    "    model.add(Dense(units=hp_units1, activation='relu'))\n",
    "    model.add(tf.keras.layers.Dense(units=hp_units2, activation='relu'))\n",
    "    model.add(tf.keras.layers.Dense(units=hp_units3, activation='relu'))\n",
    "    model.add(Dense(1, kernel_initializer='normal', activation='linear'))\n",
    "\n",
    "    # Tune the learning rate for the optimizer\n",
    "    # Choose an optimal value from 0.01, 0.001, or 0.0001\n",
    "    hp_learning_rate = hp.Choice('learning_rate', values=[1e-2, 1e-3, 1e-4])\n",
    "\n",
    "    model.compile(\n",
    "                      optimizer=tf.keras.optimizers.Adam(learning_rate=hp_learning_rate),\n",
    "                      loss=msle,\n",
    "                      metrics=[msle]\n",
    "                    )\n",
    "\n",
    "    return model"
   ]
  },
  {
   "cell_type": "code",
   "execution_count": 101,
   "id": "9ba63013-293b-4b31-90d0-0c0d094d7e58",
   "metadata": {},
   "outputs": [
    {
     "name": "stdout",
     "output_type": "stream",
     "text": [
      "INFO:tensorflow:Reloading Oracle from existing project keras_tuner_dir\\keras_tuner_demo\\oracle.json\n",
      "INFO:tensorflow:Reloading Tuner from keras_tuner_dir\\keras_tuner_demo\\tuner0.json\n"
     ]
    }
   ],
   "source": [
    "# HyperBand algorithm from keras tuner\n",
    "tuner = kt.Hyperband(\n",
    "                        build_model,\n",
    "                        objective='val_mean_squared_logarithmic_error',\n",
    "                        max_epochs=10,\n",
    "                        directory='keras_tuner_dir',\n",
    "                        project_name='keras_tuner_demo'\n",
    "                    )"
   ]
  },
  {
   "cell_type": "code",
   "execution_count": 102,
   "id": "28d93232-7709-4644-a47b-5d448fcbce9b",
   "metadata": {},
   "outputs": [
    {
     "name": "stdout",
     "output_type": "stream",
     "text": [
      "INFO:tensorflow:Oracle triggered exit\n"
     ]
    }
   ],
   "source": [
    "tuner.search(\n",
    "                X_train, \n",
    "                y_train, \n",
    "                epochs=10, \n",
    "                validation_split=0.2, \n",
    "                callbacks=[tf.keras.callbacks.TensorBoard(logdir_tensorboard)]\n",
    "            )"
   ]
  },
  {
   "cell_type": "code",
   "execution_count": 103,
   "id": "fdaa1a62-fa53-4c0c-b015-1af769a259f3",
   "metadata": {},
   "outputs": [
    {
     "data": {
      "text/plain": [
       "((354, 13), (354,))"
      ]
     },
     "execution_count": 103,
     "metadata": {},
     "output_type": "execute_result"
    }
   ],
   "source": [
    "X_train.shape ,y_train.shape"
   ]
  },
  {
   "cell_type": "code",
   "execution_count": 104,
   "id": "f09256f6-78b7-4d78-b6d2-9b766a2c26ed",
   "metadata": {},
   "outputs": [
    {
     "name": "stdout",
     "output_type": "stream",
     "text": [
      "Model: \"sequential\"\n",
      "_________________________________________________________________\n",
      " Layer (type)                Output Shape              Param #   \n",
      "=================================================================\n",
      " dense (Dense)               (354, 160)                2240      \n",
      "                                                                 \n",
      " dense_1 (Dense)             (354, 512)                82432     \n",
      "                                                                 \n",
      " dense_2 (Dense)             (354, 320)                164160    \n",
      "                                                                 \n",
      " dense_3 (Dense)             (354, 1)                  321       \n",
      "                                                                 \n",
      "=================================================================\n",
      "Total params: 249,153\n",
      "Trainable params: 249,153\n",
      "Non-trainable params: 0\n",
      "_________________________________________________________________\n"
     ]
    }
   ],
   "source": [
    "best_model = tuner.get_best_models()[0]\n",
    "best_model.build(X_train.shape)\n",
    "best_model.summary()"
   ]
  },
  {
   "cell_type": "code",
   "execution_count": 105,
   "id": "72a3da9c-0d39-459f-98ac-8c22b275c2f0",
   "metadata": {},
   "outputs": [
    {
     "name": "stdout",
     "output_type": "stream",
     "text": [
      "Epoch 1/10\n",
      "6/6 [==============================] - 0s 5ms/step - loss: 0.1058 - mean_squared_logarithmic_error: 0.1062\n",
      "Epoch 2/10\n",
      "6/6 [==============================] - 0s 4ms/step - loss: 0.1008 - mean_squared_logarithmic_error: 0.1054\n",
      "Epoch 3/10\n",
      "6/6 [==============================] - 0s 4ms/step - loss: 0.1049 - mean_squared_logarithmic_error: 0.1113\n",
      "Epoch 4/10\n",
      "6/6 [==============================] - 0s 3ms/step - loss: 0.1128 - mean_squared_logarithmic_error: 0.1123\n",
      "Epoch 5/10\n",
      "6/6 [==============================] - 0s 3ms/step - loss: 0.1102 - mean_squared_logarithmic_error: 0.1130\n",
      "Epoch 6/10\n",
      "6/6 [==============================] - 0s 3ms/step - loss: 0.1004 - mean_squared_logarithmic_error: 0.1040\n",
      "Epoch 7/10\n",
      "6/6 [==============================] - 0s 3ms/step - loss: 0.0982 - mean_squared_logarithmic_error: 0.0938\n",
      "Epoch 8/10\n",
      "6/6 [==============================] - 0s 3ms/step - loss: 0.0984 - mean_squared_logarithmic_error: 0.0986\n",
      "Epoch 9/10\n",
      "6/6 [==============================] - 0s 3ms/step - loss: 0.1029 - mean_squared_logarithmic_error: 0.1010\n",
      "Epoch 10/10\n",
      "6/6 [==============================] - 0s 3ms/step - loss: 0.0984 - mean_squared_logarithmic_error: 0.0994\n"
     ]
    },
    {
     "data": {
      "text/plain": [
       "<keras.callbacks.History at 0x19fe64fc7f0>"
      ]
     },
     "execution_count": 105,
     "metadata": {},
     "output_type": "execute_result"
    }
   ],
   "source": [
    "best_model.fit(\n",
    "                    X_train, \n",
    "                    y_train,\n",
    "                    epochs=10,\n",
    "                    batch_size=64\n",
    "                )"
   ]
  },
  {
   "cell_type": "code",
   "execution_count": 106,
   "id": "8431a52c-9796-43a5-9b7e-25676abb55a6",
   "metadata": {},
   "outputs": [
    {
     "name": "stdout",
     "output_type": "stream",
     "text": [
      "5/5 [==============================] - 0s 1ms/step\n"
     ]
    },
    {
     "data": {
      "text/plain": [
       "0.21758471"
      ]
     },
     "execution_count": 106,
     "metadata": {},
     "output_type": "execute_result"
    }
   ],
   "source": [
    "# mean squared logarithmic error\n",
    "msle(y_test, best_model.predict(X_test)).numpy()"
   ]
  },
  {
   "cell_type": "code",
   "execution_count": 107,
   "id": "522167d2-0294-47e6-8fce-63db70a798f6",
   "metadata": {},
   "outputs": [],
   "source": [
    "import tensorboard"
   ]
  },
  {
   "cell_type": "code",
   "execution_count": 108,
   "id": "e1ee20ea-8289-484a-8968-73454b26ac96",
   "metadata": {},
   "outputs": [
    {
     "name": "stdout",
     "output_type": "stream",
     "text": [
      "The tensorboard extension is already loaded. To reload it, use:\n",
      "  %reload_ext tensorboard\n"
     ]
    }
   ],
   "source": [
    "%load_ext tensorboard"
   ]
  },
  {
   "cell_type": "code",
   "execution_count": 109,
   "id": "540f6ec9-9c5d-419c-8c49-e494da9541b3",
   "metadata": {},
   "outputs": [
    {
     "data": {
      "text/plain": [
       "'tf2_logs/20220424-002356/TensorBoard'"
      ]
     },
     "execution_count": 109,
     "metadata": {},
     "output_type": "execute_result"
    }
   ],
   "source": [
    "logdir_tensorboard"
   ]
  },
  {
   "cell_type": "code",
   "execution_count": 110,
   "id": "8cd737e2-c952-4219-bbd9-59b34d867be9",
   "metadata": {},
   "outputs": [
    {
     "data": {
      "text/html": [
       "\n",
       "      <iframe id=\"tensorboard-frame-e46f0262dfff8c8e\" width=\"100%\" height=\"800\" frameborder=\"0\">\n",
       "      </iframe>\n",
       "      <script>\n",
       "        (function() {\n",
       "          const frame = document.getElementById(\"tensorboard-frame-e46f0262dfff8c8e\");\n",
       "          const url = new URL(\"/\", window.location);\n",
       "          const port = 6006;\n",
       "          if (port) {\n",
       "            url.port = port;\n",
       "          }\n",
       "          frame.src = url;\n",
       "        })();\n",
       "      </script>\n",
       "    "
      ],
      "text/plain": [
       "<IPython.core.display.HTML object>"
      ]
     },
     "metadata": {},
     "output_type": "display_data"
    }
   ],
   "source": [
    "%tensorboard --logdir \"$logdir_tensorboard\""
   ]
  },
  {
   "cell_type": "code",
   "execution_count": 113,
   "id": "756f7eb8",
   "metadata": {},
   "outputs": [
    {
     "data": {
      "text/plain": [
       "Reusing TensorBoard on port 6006 (pid 15364), started 3 days, 8:47:06 ago. (Use '!kill 15364' to kill it.)"
      ]
     },
     "metadata": {},
     "output_type": "display_data"
    },
    {
     "data": {
      "text/html": [
       "\n",
       "      <iframe id=\"tensorboard-frame-64d241c3a64f1fca\" width=\"100%\" height=\"800\" frameborder=\"0\">\n",
       "      </iframe>\n",
       "      <script>\n",
       "        (function() {\n",
       "          const frame = document.getElementById(\"tensorboard-frame-64d241c3a64f1fca\");\n",
       "          const url = new URL(\"/\", window.location);\n",
       "          const port = 6006;\n",
       "          if (port) {\n",
       "            url.port = port;\n",
       "          }\n",
       "          frame.src = url;\n",
       "        })();\n",
       "      </script>\n",
       "    "
      ],
      "text/plain": [
       "<IPython.core.display.HTML object>"
      ]
     },
     "metadata": {},
     "output_type": "display_data"
    }
   ],
   "source": [
    "%tensorboard --logdir 'tf2_logs/20220420-151335/TensorBoard'"
   ]
  },
  {
   "cell_type": "code",
   "execution_count": 80,
   "id": "17708cb2",
   "metadata": {},
   "outputs": [],
   "source": [
    "# !pip uninstall tb-nightly tensorboardX tensorboard"
   ]
  },
  {
   "cell_type": "code",
   "execution_count": null,
   "id": "1f5b63ea-7f19-4219-aba5-4f94b6832a91",
   "metadata": {},
   "outputs": [],
   "source": [
    "# !pip install tensorboard"
   ]
  },
  {
   "cell_type": "code",
   "execution_count": 52,
   "id": "a14194a2-3343-41c3-b45b-3979d932dc2c",
   "metadata": {},
   "outputs": [
    {
     "name": "stdout",
     "output_type": "stream",
     "text": [
      "Package                            Version\n",
      "---------------------------------- --------------------\n",
      "absl-py                            1.0.0\n",
      "alabaster                          0.7.12\n",
      "anaconda-client                    1.9.0\n",
      "anaconda-navigator                 2.1.1\n",
      "anaconda-project                   0.10.1\n",
      "anyio                              2.2.0\n",
      "appdirs                            1.4.4\n",
      "argh                               0.26.2\n",
      "argon2-cffi                        20.1.0\n",
      "arrow                              0.13.1\n",
      "asn1crypto                         1.4.0\n",
      "astroid                            2.6.6\n",
      "astropy                            4.3.1\n",
      "astunparse                         1.6.3\n",
      "async-generator                    1.10\n",
      "atomicwrites                       1.4.0\n",
      "attrs                              21.2.0\n",
      "autopep8                           1.5.7\n",
      "Babel                              2.9.1\n",
      "backcall                           0.2.0\n",
      "backports.functools-lru-cache      1.6.4\n",
      "backports.shutil-get-terminal-size 1.0.0\n",
      "backports.tempfile                 1.0\n",
      "backports.weakref                  1.0.post1\n",
      "bcrypt                             3.2.0\n",
      "beautifulsoup4                     4.10.0\n",
      "binaryornot                        0.4.4\n",
      "bitarray                           2.3.0\n",
      "bkcharts                           0.2\n",
      "black                              19.10b0\n",
      "bleach                             4.0.0\n",
      "bokeh                              2.4.1\n",
      "boto                               2.49.0\n",
      "Bottleneck                         1.3.2\n",
      "brotlipy                           0.7.0\n",
      "cached-property                    1.5.2\n",
      "cachetools                         5.0.0\n",
      "certifi                            2021.10.8\n",
      "cffi                               1.14.6\n",
      "chardet                            4.0.0\n",
      "charset-normalizer                 2.0.4\n",
      "click                              8.0.3\n",
      "cloudpickle                        2.0.0\n",
      "clyent                             1.2.2\n",
      "colorama                           0.4.4\n",
      "comtypes                           1.1.10\n",
      "conda                              4.10.3\n",
      "conda-build                        3.21.6\n",
      "conda-content-trust                0+unknown\n",
      "conda-pack                         0.6.0\n",
      "conda-package-handling             1.7.3\n",
      "conda-repo-cli                     1.0.4\n",
      "conda-token                        0.3.0\n",
      "conda-verify                       3.4.2\n",
      "contextlib2                        0.6.0.post1\n",
      "cookiecutter                       1.7.2\n",
      "cryptography                       3.4.8\n",
      "cycler                             0.10.0\n",
      "Cython                             0.29.24\n",
      "cytoolz                            0.11.0\n",
      "daal4py                            2021.3.0\n",
      "dask                               2021.10.0\n",
      "debugpy                            1.4.1\n",
      "decorator                          5.1.0\n",
      "defusedxml                         0.7.1\n",
      "diff-match-patch                   20200713\n",
      "distributed                        2021.10.0\n",
      "docutils                           0.17.1\n",
      "entrypoints                        0.3\n",
      "et-xmlfile                         1.1.0\n",
      "fastcache                          1.1.0\n",
      "filelock                           3.3.1\n",
      "flake8                             3.9.2\n",
      "Flask                              1.1.2\n",
      "flatbuffers                        1.12\n",
      "fonttools                          4.25.0\n",
      "fsspec                             2021.10.1\n",
      "future                             0.18.2\n",
      "gast                               0.4.0\n",
      "gevent                             21.8.0\n",
      "glob2                              0.7\n",
      "google-auth                        2.6.6\n",
      "google-auth-oauthlib               0.4.6\n",
      "greenlet                           1.1.1\n",
      "grpcio                             1.44.0\n",
      "h5py                               3.6.0\n",
      "HeapDict                           1.0.1\n",
      "html5lib                           1.1\n",
      "idna                               3.2\n",
      "imagecodecs                        2021.8.26\n",
      "imageio                            2.9.0\n",
      "imagesize                          1.2.0\n",
      "importlib-metadata                 4.8.1\n",
      "inflection                         0.5.1\n",
      "iniconfig                          1.1.1\n",
      "intervaltree                       3.1.0\n",
      "ipykernel                          6.4.1\n",
      "ipython                            7.29.0\n",
      "ipython-genutils                   0.2.0\n",
      "ipywidgets                         7.6.5\n",
      "isort                              5.9.3\n",
      "itsdangerous                       2.0.1\n",
      "jdcal                              1.4.1\n",
      "jedi                               0.18.0\n",
      "Jinja2                             2.11.3\n",
      "jinja2-time                        0.2.0\n",
      "joblib                             1.1.0\n",
      "json5                              0.9.6\n",
      "jsonschema                         3.2.0\n",
      "jupyter                            1.0.0\n",
      "jupyter-client                     6.1.12\n",
      "jupyter-console                    6.4.0\n",
      "jupyter-core                       4.8.1\n",
      "jupyter-server                     1.4.1\n",
      "jupyterlab                         3.2.1\n",
      "jupyterlab-pygments                0.1.2\n",
      "jupyterlab-server                  2.8.2\n",
      "jupyterlab-widgets                 1.0.0\n",
      "keras-nightly                      2.10.0.dev2022042007\n",
      "keras-tuner                        1.1.2\n",
      "keyring                            23.1.0\n",
      "kiwisolver                         1.3.1\n",
      "kt-legacy                          1.0.4\n",
      "lazy-object-proxy                  1.6.0\n",
      "libarchive-c                       2.9\n",
      "llvmlite                           0.37.0\n",
      "locket                             0.2.1\n",
      "lxml                               4.6.3\n",
      "Markdown                           3.3.6\n",
      "MarkupSafe                         1.1.1\n",
      "matplotlib                         3.4.3\n",
      "matplotlib-inline                  0.1.2\n",
      "mccabe                             0.6.1\n",
      "menuinst                           1.4.18\n",
      "mistune                            0.8.4\n",
      "mkl-fft                            1.3.1\n",
      "mkl-random                         1.2.2\n",
      "mkl-service                        2.4.0\n",
      "mock                               4.0.3\n",
      "more-itertools                     8.10.0\n",
      "mpmath                             1.2.1\n",
      "msgpack                            1.0.2\n",
      "multipledispatch                   0.6.0\n",
      "munkres                            1.1.4\n",
      "mypy-extensions                    0.4.3\n",
      "navigator-updater                  0.2.1\n",
      "nbclassic                          0.2.6\n",
      "nbclient                           0.5.3\n",
      "nbconvert                          6.1.0\n",
      "nbformat                           5.1.3\n",
      "nest-asyncio                       1.5.1\n",
      "networkx                           2.6.3\n",
      "nltk                               3.6.5\n",
      "nose                               1.3.7\n",
      "notebook                           6.4.5\n",
      "numba                              0.54.1\n",
      "numexpr                            2.7.3\n",
      "numpy                              1.20.3\n",
      "numpydoc                           1.1.0\n",
      "oauthlib                           3.2.0\n",
      "olefile                            0.46\n",
      "openpyxl                           3.0.9\n",
      "opt-einsum                         3.3.0\n",
      "packaging                          21.0\n",
      "pandas                             1.3.4\n",
      "pandocfilters                      1.4.3\n",
      "paramiko                           2.7.2\n",
      "parso                              0.8.2\n",
      "partd                              1.2.0\n",
      "path                               16.0.0\n",
      "pathlib2                           2.3.6\n",
      "pathspec                           0.7.0\n",
      "patsy                              0.5.2\n",
      "pep8                               1.7.1\n",
      "pexpect                            4.8.0\n",
      "pickleshare                        0.7.5\n",
      "Pillow                             8.4.0\n",
      "pip                                21.2.4\n",
      "pkginfo                            1.7.1\n",
      "pluggy                             0.13.1\n",
      "ply                                3.11\n",
      "poyo                               0.5.0\n",
      "prometheus-client                  0.11.0\n",
      "prompt-toolkit                     3.0.20\n",
      "protobuf                           3.20.0\n",
      "psutil                             5.8.0\n",
      "ptyprocess                         0.7.0\n",
      "py                                 1.10.0\n",
      "pyasn1                             0.4.8\n",
      "pyasn1-modules                     0.2.8\n",
      "pycodestyle                        2.7.0\n",
      "pycosat                            0.6.3\n",
      "pycparser                          2.20\n",
      "pycurl                             7.44.1\n",
      "pydocstyle                         6.1.1\n",
      "pyerfa                             2.0.0\n",
      "pyflakes                           2.3.1\n",
      "Pygments                           2.10.0\n",
      "PyJWT                              2.1.0\n",
      "pylint                             2.9.6\n",
      "pyls-spyder                        0.4.0\n",
      "PyNaCl                             1.4.0\n",
      "pyodbc                             4.0.0-unsupported\n",
      "pyOpenSSL                          21.0.0\n",
      "pyparsing                          3.0.4\n",
      "pyreadline                         2.1\n",
      "pyrsistent                         0.18.0\n",
      "PySocks                            1.7.1\n",
      "pytest                             6.2.4\n",
      "python-dateutil                    2.8.2\n",
      "python-lsp-black                   1.0.0\n",
      "python-lsp-jsonrpc                 1.0.0\n",
      "python-lsp-server                  1.2.4\n",
      "python-slugify                     5.0.2\n",
      "pytz                               2021.3\n",
      "PyWavelets                         1.1.1\n",
      "pywin32                            228\n",
      "pywin32-ctypes                     0.2.0\n",
      "pywinpty                           0.5.7\n",
      "PyYAML                             6.0\n",
      "pyzmq                              22.2.1\n",
      "QDarkStyle                         3.0.2\n",
      "qstylizer                          0.1.10\n",
      "QtAwesome                          1.0.2\n",
      "qtconsole                          5.1.1\n",
      "QtPy                               1.10.0\n",
      "regex                              2021.8.3\n",
      "requests                           2.26.0\n",
      "requests-oauthlib                  1.3.1\n",
      "rope                               0.19.0\n",
      "rsa                                4.8\n",
      "Rtree                              0.9.7\n",
      "ruamel-yaml-conda                  0.15.100\n",
      "scikit-image                       0.18.3\n",
      "scikit-learn                       0.24.2\n",
      "scikit-learn-intelex               2021.20210714.120553\n",
      "scipy                              1.7.1\n",
      "seaborn                            0.11.2\n",
      "Send2Trash                         1.8.0\n",
      "setuptools                         58.0.4\n",
      "simplegeneric                      0.8.1\n",
      "singledispatch                     3.7.0\n",
      "sip                                4.19.13\n",
      "six                                1.16.0\n",
      "sniffio                            1.2.0\n",
      "snowballstemmer                    2.1.0\n",
      "sortedcollections                  2.1.0\n",
      "sortedcontainers                   2.4.0\n",
      "soupsieve                          2.2.1\n",
      "Sphinx                             4.2.0\n",
      "sphinxcontrib-applehelp            1.0.2\n",
      "sphinxcontrib-devhelp              1.0.2\n",
      "sphinxcontrib-htmlhelp             2.0.0\n",
      "sphinxcontrib-jsmath               1.0.1\n",
      "sphinxcontrib-qthelp               1.0.3\n",
      "sphinxcontrib-serializinghtml      1.1.5\n",
      "sphinxcontrib-websupport           1.2.4\n",
      "spyder                             5.1.5\n",
      "spyder-kernels                     2.1.3\n",
      "SQLAlchemy                         1.4.22\n",
      "statsmodels                        0.12.2\n",
      "sympy                              1.9\n",
      "tables                             3.6.1\n",
      "TBB                                0.2\n",
      "tblib                              1.7.0\n",
      "tensorboard                        2.8.0\n",
      "tensorboard-data-server            0.6.1\n",
      "tensorboard-plugin-wit             1.8.1\n",
      "termcolor                          1.1.0\n",
      "terminado                          0.9.4\n",
      "testpath                           0.5.0\n",
      "text-unidecode                     1.3\n",
      "textdistance                       4.2.1\n",
      "tf-estimator-nightly               2.8.0.dev2021122109\n",
      "tf-nightly-gpu                     2.10.0.dev20220420\n",
      "threadpoolctl                      2.2.0\n",
      "three-merge                        0.1.1\n",
      "tifffile                           2021.7.2\n",
      "tinycss                            0.4\n",
      "toml                               0.10.2\n",
      "toolz                              0.11.1\n",
      "tornado                            6.1\n",
      "tqdm                               4.62.3\n",
      "traitlets                          5.1.0\n",
      "typed-ast                          1.4.3\n",
      "typing-extensions                  3.10.0.2\n",
      "ujson                              4.0.2\n",
      "unicodecsv                         0.14.1\n",
      "Unidecode                          1.2.0\n",
      "urllib3                            1.26.7\n",
      "watchdog                           2.1.3\n",
      "wcwidth                            0.2.5\n",
      "webencodings                       0.5.1\n",
      "Werkzeug                           2.0.2\n",
      "wheel                              0.37.0\n",
      "whichcraft                         0.6.1\n",
      "widgetsnbextension                 3.5.1\n",
      "win-inet-pton                      1.1.0\n",
      "win-unicode-console                0.5\n",
      "wincertstore                       0.2\n",
      "wrapt                              1.14.0\n",
      "xlrd                               2.0.1\n",
      "XlsxWriter                         3.0.1\n",
      "xlwings                            0.24.9\n",
      "xlwt                               1.3.0\n",
      "xmltodict                          0.12.0\n",
      "yapf                               0.31.0\n",
      "zict                               2.0.0\n",
      "zipp                               3.6.0\n",
      "zope.event                         4.5.0\n",
      "zope.interface                     5.4.0\n"
     ]
    }
   ],
   "source": [
    "!pip list "
   ]
  },
  {
   "cell_type": "code",
   "execution_count": 54,
   "id": "22cf3d11-f7df-4f4e-afcc-fc302ed3d7a2",
   "metadata": {},
   "outputs": [
    {
     "name": "stdout",
     "output_type": "stream",
     "text": [
      "Collecting tensorflow"
     ]
    },
    {
     "name": "stderr",
     "output_type": "stream",
     "text": [
      "  WARNING: Failed to write executable - trying to use .deleteme logic\n",
      "ERROR: Could not install packages due to an OSError: [WinError 32] The process cannot access the file because it is being used by another process: 'C:\\\\Users\\\\Lamyaa Zayed\\\\anaconda3\\\\Scripts\\\\tensorboard.exe' -> 'C:\\\\Users\\\\Lamyaa Zayed\\\\anaconda3\\\\Scripts\\\\tensorboard.exe.deleteme'\n",
      "Consider using the `--user` option or check the permissions.\n",
      "\n"
     ]
    },
    {
     "name": "stdout",
     "output_type": "stream",
     "text": [
      "\n",
      "  Using cached tensorflow-2.8.0-cp39-cp39-win_amd64.whl (438.0 MB)\n",
      "Requirement already satisfied: tf-estimator-nightly==2.8.0.dev2021122109 in c:\\users\\lamyaa zayed\\appdata\\roaming\\python\\python39\\site-packages (from tensorflow) (2.8.0.dev2021122109)\n",
      "Requirement already satisfied: six>=1.12.0 in c:\\users\\lamyaa zayed\\anaconda3\\lib\\site-packages (from tensorflow) (1.16.0)\n",
      "Requirement already satisfied: wrapt>=1.11.0 in c:\\users\\lamyaa zayed\\appdata\\roaming\\python\\python39\\site-packages (from tensorflow) (1.14.0)\n",
      "Requirement already satisfied: protobuf>=3.9.2 in c:\\users\\lamyaa zayed\\anaconda3\\lib\\site-packages (from tensorflow) (3.20.0)\n",
      "Requirement already satisfied: opt-einsum>=2.3.2 in c:\\users\\lamyaa zayed\\anaconda3\\lib\\site-packages (from tensorflow) (3.3.0)\n",
      "Requirement already satisfied: grpcio<2.0,>=1.24.3 in c:\\users\\lamyaa zayed\\anaconda3\\lib\\site-packages (from tensorflow) (1.44.0)\n",
      "Requirement already satisfied: setuptools in c:\\users\\lamyaa zayed\\anaconda3\\lib\\site-packages (from tensorflow) (58.0.4)\n",
      "Collecting libclang>=9.0.1\n",
      "  Using cached libclang-13.0.0-py2.py3-none-win_amd64.whl (13.9 MB)\n",
      "Requirement already satisfied: numpy>=1.20 in c:\\users\\lamyaa zayed\\anaconda3\\lib\\site-packages (from tensorflow) (1.20.3)\n",
      "Requirement already satisfied: typing-extensions>=3.6.6 in c:\\users\\lamyaa zayed\\anaconda3\\lib\\site-packages (from tensorflow) (3.10.0.2)\n",
      "Requirement already satisfied: absl-py>=0.4.0 in c:\\users\\lamyaa zayed\\anaconda3\\lib\\site-packages (from tensorflow) (1.0.0)\n",
      "Requirement already satisfied: flatbuffers>=1.12 in c:\\users\\lamyaa zayed\\appdata\\roaming\\python\\python39\\site-packages (from tensorflow) (1.12)\n",
      "Requirement already satisfied: astunparse>=1.6.0 in c:\\users\\lamyaa zayed\\anaconda3\\lib\\site-packages (from tensorflow) (1.6.3)\n",
      "Requirement already satisfied: termcolor>=1.1.0 in c:\\users\\lamyaa zayed\\anaconda3\\lib\\site-packages (from tensorflow) (1.1.0)\n",
      "Collecting keras<2.9,>=2.8.0rc0\n",
      "  Using cached keras-2.8.0-py2.py3-none-any.whl (1.4 MB)\n",
      "Collecting keras-preprocessing>=1.1.1\n",
      "  Using cached Keras_Preprocessing-1.1.2-py2.py3-none-any.whl (42 kB)\n",
      "Collecting google-pasta>=0.1.1\n",
      "  Using cached google_pasta-0.2.0-py3-none-any.whl (57 kB)\n",
      "Collecting tensorflow-io-gcs-filesystem>=0.23.1\n",
      "  Downloading tensorflow_io_gcs_filesystem-0.25.0-cp39-cp39-win_amd64.whl (1.5 MB)\n",
      "Requirement already satisfied: gast>=0.2.1 in c:\\users\\lamyaa zayed\\appdata\\roaming\\python\\python39\\site-packages (from tensorflow) (0.4.0)\n",
      "Requirement already satisfied: h5py>=2.9.0 in c:\\users\\lamyaa zayed\\appdata\\roaming\\python\\python39\\site-packages (from tensorflow) (3.6.0)\n",
      "Requirement already satisfied: tensorboard<2.9,>=2.8 in c:\\users\\lamyaa zayed\\anaconda3\\lib\\site-packages (from tensorflow) (2.8.0)\n",
      "Requirement already satisfied: wheel<1.0,>=0.23.0 in c:\\users\\lamyaa zayed\\anaconda3\\lib\\site-packages (from astunparse>=1.6.0->tensorflow) (0.37.0)\n",
      "Requirement already satisfied: werkzeug>=0.11.15 in c:\\users\\lamyaa zayed\\anaconda3\\lib\\site-packages (from tensorboard<2.9,>=2.8->tensorflow) (2.0.2)\n",
      "Requirement already satisfied: google-auth-oauthlib<0.5,>=0.4.1 in c:\\users\\lamyaa zayed\\anaconda3\\lib\\site-packages (from tensorboard<2.9,>=2.8->tensorflow) (0.4.6)\n",
      "Requirement already satisfied: tensorboard-data-server<0.7.0,>=0.6.0 in c:\\users\\lamyaa zayed\\anaconda3\\lib\\site-packages (from tensorboard<2.9,>=2.8->tensorflow) (0.6.1)\n",
      "Requirement already satisfied: requests<3,>=2.21.0 in c:\\users\\lamyaa zayed\\anaconda3\\lib\\site-packages (from tensorboard<2.9,>=2.8->tensorflow) (2.26.0)\n",
      "Requirement already satisfied: markdown>=2.6.8 in c:\\users\\lamyaa zayed\\anaconda3\\lib\\site-packages (from tensorboard<2.9,>=2.8->tensorflow) (3.3.6)\n",
      "Requirement already satisfied: tensorboard-plugin-wit>=1.6.0 in c:\\users\\lamyaa zayed\\anaconda3\\lib\\site-packages (from tensorboard<2.9,>=2.8->tensorflow) (1.8.1)\n",
      "Requirement already satisfied: google-auth<3,>=1.6.3 in c:\\users\\lamyaa zayed\\anaconda3\\lib\\site-packages (from tensorboard<2.9,>=2.8->tensorflow) (2.6.6)\n",
      "Requirement already satisfied: rsa<5,>=3.1.4 in c:\\users\\lamyaa zayed\\anaconda3\\lib\\site-packages (from google-auth<3,>=1.6.3->tensorboard<2.9,>=2.8->tensorflow) (4.8)\n",
      "Requirement already satisfied: cachetools<6.0,>=2.0.0 in c:\\users\\lamyaa zayed\\anaconda3\\lib\\site-packages (from google-auth<3,>=1.6.3->tensorboard<2.9,>=2.8->tensorflow) (5.0.0)\n",
      "Requirement already satisfied: pyasn1-modules>=0.2.1 in c:\\users\\lamyaa zayed\\anaconda3\\lib\\site-packages (from google-auth<3,>=1.6.3->tensorboard<2.9,>=2.8->tensorflow) (0.2.8)\n",
      "Requirement already satisfied: requests-oauthlib>=0.7.0 in c:\\users\\lamyaa zayed\\anaconda3\\lib\\site-packages (from google-auth-oauthlib<0.5,>=0.4.1->tensorboard<2.9,>=2.8->tensorflow) (1.3.1)\n",
      "Requirement already satisfied: importlib-metadata>=4.4 in c:\\users\\lamyaa zayed\\anaconda3\\lib\\site-packages (from markdown>=2.6.8->tensorboard<2.9,>=2.8->tensorflow) (4.8.1)\n",
      "Requirement already satisfied: zipp>=0.5 in c:\\users\\lamyaa zayed\\anaconda3\\lib\\site-packages (from importlib-metadata>=4.4->markdown>=2.6.8->tensorboard<2.9,>=2.8->tensorflow) (3.6.0)\n",
      "Requirement already satisfied: pyasn1<0.5.0,>=0.4.6 in c:\\users\\lamyaa zayed\\anaconda3\\lib\\site-packages (from pyasn1-modules>=0.2.1->google-auth<3,>=1.6.3->tensorboard<2.9,>=2.8->tensorflow) (0.4.8)\n",
      "Requirement already satisfied: idna<4,>=2.5 in c:\\users\\lamyaa zayed\\anaconda3\\lib\\site-packages (from requests<3,>=2.21.0->tensorboard<2.9,>=2.8->tensorflow) (3.2)\n",
      "Requirement already satisfied: urllib3<1.27,>=1.21.1 in c:\\users\\lamyaa zayed\\anaconda3\\lib\\site-packages (from requests<3,>=2.21.0->tensorboard<2.9,>=2.8->tensorflow) (1.26.7)\n",
      "Requirement already satisfied: certifi>=2017.4.17 in c:\\users\\lamyaa zayed\\anaconda3\\lib\\site-packages (from requests<3,>=2.21.0->tensorboard<2.9,>=2.8->tensorflow) (2021.10.8)\n",
      "Requirement already satisfied: charset-normalizer~=2.0.0 in c:\\users\\lamyaa zayed\\anaconda3\\lib\\site-packages (from requests<3,>=2.21.0->tensorboard<2.9,>=2.8->tensorflow) (2.0.4)\n",
      "Requirement already satisfied: oauthlib>=3.0.0 in c:\\users\\lamyaa zayed\\anaconda3\\lib\\site-packages (from requests-oauthlib>=0.7.0->google-auth-oauthlib<0.5,>=0.4.1->tensorboard<2.9,>=2.8->tensorflow) (3.2.0)\n",
      "Installing collected packages: tensorflow-io-gcs-filesystem, libclang, keras-preprocessing, keras, google-pasta, tensorflow\n"
     ]
    }
   ],
   "source": [
    "!pip install tensorflow"
   ]
  },
  {
   "cell_type": "code",
   "execution_count": null,
   "id": "ec209d9e",
   "metadata": {},
   "outputs": [],
   "source": []
  }
 ],
 "metadata": {
  "kernelspec": {
   "display_name": "Python 3 (ipykernel)",
   "language": "python",
   "name": "python3"
  },
  "language_info": {
   "codemirror_mode": {
    "name": "ipython",
    "version": 3
   },
   "file_extension": ".py",
   "mimetype": "text/x-python",
   "name": "python",
   "nbconvert_exporter": "python",
   "pygments_lexer": "ipython3",
   "version": "3.9.7"
  }
 },
 "nbformat": 4,
 "nbformat_minor": 5
}
