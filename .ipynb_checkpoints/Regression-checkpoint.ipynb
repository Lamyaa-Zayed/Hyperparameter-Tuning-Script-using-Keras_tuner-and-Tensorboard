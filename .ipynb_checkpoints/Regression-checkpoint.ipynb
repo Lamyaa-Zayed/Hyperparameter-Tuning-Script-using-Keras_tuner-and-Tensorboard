{
 "cells": [
  {
   "cell_type": "code",
   "execution_count": 1,
   "id": "1e548374-5c80-4a02-a509-1d01b849cf4a",
   "metadata": {},
   "outputs": [],
   "source": [
    "import keras_tuner as kt\n",
    "import tensorflow as tf"
   ]
  },
  {
   "cell_type": "code",
   "execution_count": 2,
   "id": "f391e472-6b69-4486-96a5-73f6d72da007",
   "metadata": {},
   "outputs": [],
   "source": [
    "import numpy as np\n",
    "import pandas as pd\n",
    "import math\n",
    "import matplotlib.pyplot as plt\n",
    "from sklearn import datasets\n",
    "from sklearn.model_selection import train_test_split"
   ]
  },
  {
   "cell_type": "code",
   "execution_count": 21,
   "id": "1d17a2fb-daa7-4d7c-b9b6-10e9ee6229fa",
   "metadata": {},
   "outputs": [],
   "source": [
    "#\n",
    "# Import Keras modules\n",
    "#\n",
    "from tensorflow.keras import models\n",
    "from tensorflow.keras import layers\n",
    "from tensorflow.keras import Input\n",
    "from tensorflow.keras.optimizers import Adam, RMSprop\n",
    "from tensorflow.keras.utils import to_categorical\n",
    "\n",
    "from tensorflow.keras import Model\n",
    "from tensorflow.keras import Sequential\n",
    "from sklearn.preprocessing import StandardScaler\n",
    "from tensorflow.keras.layers import Dense, Dropout\n",
    "from tensorflow.keras.losses import MeanSquaredLogarithmicError"
   ]
  },
  {
   "cell_type": "code",
   "execution_count": 4,
   "id": "99188e2c-00ff-477a-86fd-eb2f3aed35da",
   "metadata": {},
   "outputs": [],
   "source": [
    "from datetime import datetime\n",
    "now = datetime.now()\n",
    "logdir_tuner = \"tf2_logs/\" + now.strftime(\"%Y%m%d-%H%M%S\") + \"/\" + \"Tuner\"\n",
    "logdir_tensorboard = \"tf2_logs/\" + now.strftime(\"%Y%m%d-%H%M%S\") + \"/\" + \"TensorBoard\""
   ]
  },
  {
   "cell_type": "code",
   "execution_count": 25,
   "id": "631e7d77-c2d3-4d8b-bb83-80544eae3917",
   "metadata": {},
   "outputs": [],
   "source": [
    "#\n",
    "# Load the reg boston housing dataset\n",
    "#\n",
    "boston = datasets.load_boston()\n",
    "X = boston.data\n",
    "y = boston.target\n",
    "#\n",
    "# Split data\n",
    "#\n",
    "X_train, X_test, y_train, y_test = train_test_split(X, y, test_size=0.3, random_state=42)"
   ]
  },
  {
   "cell_type": "code",
   "execution_count": 18,
   "id": "8308cebb-61f8-4b7d-950c-4b6a27a05e6c",
   "metadata": {},
   "outputs": [],
   "source": [
    "# boston.feature_names"
   ]
  },
  {
   "cell_type": "code",
   "execution_count": 17,
   "id": "0276a1ce-023f-4fd2-8863-1284b361325c",
   "metadata": {},
   "outputs": [],
   "source": [
    "# y"
   ]
  },
  {
   "cell_type": "code",
   "execution_count": 19,
   "id": "3c603fdf-31a2-4ccf-a2b7-741d502fad6a",
   "metadata": {},
   "outputs": [],
   "source": [
    "# df = pd.DataFrame(X,y)\n",
    "# df"
   ]
  },
  {
   "cell_type": "code",
   "execution_count": 20,
   "id": "0f672063-4464-42c2-8f09-7343ac70afa1",
   "metadata": {},
   "outputs": [
    {
     "data": {
      "text/plain": [
       "195"
      ]
     },
     "execution_count": 20,
     "metadata": {},
     "output_type": "execute_result"
    }
   ],
   "source": [
    "pd.Series(y_train).unique().size"
   ]
  },
  {
   "cell_type": "code",
   "execution_count": 38,
   "id": "47dcfe6c-4d44-4fde-b3d7-c7bb46c01af0",
   "metadata": {},
   "outputs": [
    {
     "data": {
      "text/plain": [
       "13"
      ]
     },
     "execution_count": 38,
     "metadata": {},
     "output_type": "execute_result"
    }
   ],
   "source": [
    "X_train.shape[1]"
   ]
  },
  {
   "cell_type": "code",
   "execution_count": null,
   "id": "b91cdf0e-e39e-413e-b6d8-8c6130ebb89d",
   "metadata": {},
   "outputs": [],
   "source": [
    "# def regression_model(hp):\n",
    "#     inputs = Input(shape = X_train.shape[1])\n",
    "#     hidden = inputs\n",
    "    \n",
    "#     hp_layers = hp.Int(\"Dense_layers\", min_value=1, max_value=3, step=1, default=3)\n",
    "#     hp_dropout = hp.Choice(\"Dropout_layer\", [0.1, 0.2, 0.3], default=0.2)\n",
    "        \n",
    "#     for i in range(hp_layers):\n",
    "#         hidden = layers.Dense(hp.Choice(\"dense_units_\" + str(i), [16, 32, 64], default=16),\n",
    "#                               activation=hp.Choice(\"activation_\" + str(i), ['relu', 'tanh']))(hidden)\n",
    "#         hidden = layers.Dropout(hp_dropout)(hidden)\n",
    "    \n",
    "#     outputs = layers.Dense(pd.Series(y_train).unique().size, \n",
    "#                            activation=\"softmax\")(hidden)\n",
    "    \n",
    "#     model = tf.keras.Model(inputs, outputs)\n",
    "\n",
    "#     model.compile(\n",
    "#         optimizer=tf.keras.optimizers.Adam(\n",
    "#             hp.Choice(\"learning_rate\", values=[1e-2, 1e-3])\n",
    "#         ),\n",
    "#         loss=\"categorical_crossentropy\",\n",
    "#         metrics=[\"accuracy\"]\n",
    "#     )\n",
    "#     return model"
   ]
  },
  {
   "cell_type": "code",
   "execution_count": null,
   "id": "5fa18533-e71e-46f0-8ea4-c925ce459c30",
   "metadata": {},
   "outputs": [],
   "source": [
    "# from kerastuner import HyperModel\n",
    "\n",
    "# class RegressionHyperModel(HyperModel):\n",
    "#     def __init__(self, input_shape):\n",
    "#         self.input_shape = input_shape\n",
    "#     def build(self, hp):\n",
    "#         model = Sequential()\n",
    "#         model.add(\n",
    "#             layers.Dense(\n",
    "#                 units=hp.Int('units', 8, 64, 4, default=8),\n",
    "#                 activation=hp.Choice('dense_activation', values=['relu', 'tanh', 'sigmoid'], default='relu'),\n",
    "#                 input_shape=input_shape\n",
    "#             )\n",
    "#         )\n",
    "        \n",
    "#         model.add(\n",
    "#             layers.Dense(\n",
    "#                 units=hp.Int('units', 16, 64, 4, default=16),\n",
    "#                 activation=hp.Choice('dense_activation',values=['relu', 'tanh', 'sigmoid'], default='relu')\n",
    "#             )\n",
    "#         )\n",
    "        \n",
    "#         model.add(\n",
    "#             layers.Dropout( hp.Float('dropout', min_value=0.0, max_value=0.1, default=0.005,step=0.01)\n",
    "#             )\n",
    "#         )\n",
    "        \n",
    "#         model.add(layers.Dense(1))\n",
    "        \n",
    "#         model.compile(\n",
    "#             optimizer='rmsprop',loss='mse',metrics=['mse']\n",
    "#         )\n",
    "        \n",
    "#         return model\n",
    "\n",
    "# input_shape = (x_train.shape[1],)\n",
    "# hypermodel = RegressionHyperModel(input_shape)\n",
    "\n",
    "# tuner_rs = RandomSearch(\n",
    "#             hypermodel,\n",
    "#             objective='mse',\n",
    "#             seed=42,\n",
    "#             max_trials=10,\n",
    "#             executions_per_trial=2)\n",
    "\n",
    "# tuner_rs.search(x_train_scaled, y_train, epochs=10, validation_split=0.2, verbose=0)\n",
    "\n",
    "# best_model = tuner_rs.get_best_models(num_models=1)[0]\n",
    "# loss, mse = best_model.evaluate(x_test_scaled, y_test)"
   ]
  },
  {
   "cell_type": "code",
   "execution_count": 26,
   "id": "2ab8be98-70bc-44e7-b341-9ee1a036377a",
   "metadata": {},
   "outputs": [],
   "source": [
    "msle = MeanSquaredLogarithmicError()\n",
    "\n",
    "\n",
    "def build_model(hp):\n",
    "    model = tf.keras.Sequential()\n",
    "\n",
    "    # Tune the number of units in the first Dense layer\n",
    "    # Choose an optimal value between 32-512\n",
    "    hp_units1 = hp.Int('units1', min_value=32, max_value=512, step=32)\n",
    "    hp_units2 = hp.Int('units2', min_value=32, max_value=512, step=32)\n",
    "    hp_units3 = hp.Int('units3', min_value=32, max_value=512, step=32)\n",
    "    model.add(Dense(units=hp_units1, activation='relu'))\n",
    "    model.add(tf.keras.layers.Dense(units=hp_units2, activation='relu'))\n",
    "    model.add(tf.keras.layers.Dense(units=hp_units3, activation='relu'))\n",
    "    model.add(Dense(1, kernel_initializer='normal', activation='linear'))\n",
    "\n",
    "    # Tune the learning rate for the optimizer\n",
    "    # Choose an optimal value from 0.01, 0.001, or 0.0001\n",
    "    hp_learning_rate = hp.Choice('learning_rate', values=[1e-2, 1e-3, 1e-4])\n",
    "\n",
    "    model.compile(\n",
    "                      optimizer=tf.keras.optimizers.Adam(learning_rate=hp_learning_rate),\n",
    "                      loss=msle,\n",
    "                      metrics=[msle]\n",
    "                    )\n",
    "\n",
    "    return model"
   ]
  },
  {
   "cell_type": "code",
   "execution_count": 27,
   "id": "9ba63013-293b-4b31-90d0-0c0d094d7e58",
   "metadata": {},
   "outputs": [],
   "source": [
    "# HyperBand algorithm from keras tuner\n",
    "tuner = kt.Hyperband(\n",
    "                        build_model,\n",
    "                        objective='val_mean_squared_logarithmic_error',\n",
    "                        max_epochs=10,\n",
    "                        directory='keras_tuner_dir',\n",
    "                        project_name='keras_tuner_demo'\n",
    "                    )"
   ]
  },
  {
   "cell_type": "code",
   "execution_count": 28,
   "id": "28d93232-7709-4644-a47b-5d448fcbce9b",
   "metadata": {},
   "outputs": [
    {
     "name": "stdout",
     "output_type": "stream",
     "text": [
      "Trial 30 Complete [00h 00m 01s]\n",
      "val_mean_squared_logarithmic_error: 0.11638905853033066\n",
      "\n",
      "Best val_mean_squared_logarithmic_error So Far: 0.09511470794677734\n",
      "Total elapsed time: 00h 00m 28s\n",
      "INFO:tensorflow:Oracle triggered exit\n"
     ]
    }
   ],
   "source": [
    "tuner.search(\n",
    "                X_train, \n",
    "                y_train, \n",
    "                epochs=10, \n",
    "                validation_split=0.2, \n",
    "                callbacks=[tf.keras.callbacks.TensorBoard(logdir_tensorboard)]\n",
    "            )"
   ]
  },
  {
   "cell_type": "code",
   "execution_count": 24,
   "id": "fdaa1a62-fa53-4c0c-b015-1af769a259f3",
   "metadata": {},
   "outputs": [
    {
     "data": {
      "text/plain": [
       "((354, 13), (354,))"
      ]
     },
     "execution_count": 24,
     "metadata": {},
     "output_type": "execute_result"
    }
   ],
   "source": [
    "X_train.shape ,y_train.shape"
   ]
  },
  {
   "cell_type": "code",
   "execution_count": 29,
   "id": "f09256f6-78b7-4d78-b6d2-9b766a2c26ed",
   "metadata": {},
   "outputs": [
    {
     "name": "stdout",
     "output_type": "stream",
     "text": [
      "Model: \"sequential\"\n",
      "_________________________________________________________________\n",
      " Layer (type)                Output Shape              Param #   \n",
      "=================================================================\n",
      " dense (Dense)               (354, 160)                2240      \n",
      "                                                                 \n",
      " dense_1 (Dense)             (354, 512)                82432     \n",
      "                                                                 \n",
      " dense_2 (Dense)             (354, 320)                164160    \n",
      "                                                                 \n",
      " dense_3 (Dense)             (354, 1)                  321       \n",
      "                                                                 \n",
      "=================================================================\n",
      "Total params: 249,153\n",
      "Trainable params: 249,153\n",
      "Non-trainable params: 0\n",
      "_________________________________________________________________\n"
     ]
    }
   ],
   "source": [
    "best_model = tuner.get_best_models()[0]\n",
    "best_model.build(X_train.shape)\n",
    "best_model.summary()"
   ]
  },
  {
   "cell_type": "code",
   "execution_count": 30,
   "id": "72a3da9c-0d39-459f-98ac-8c22b275c2f0",
   "metadata": {},
   "outputs": [
    {
     "name": "stdout",
     "output_type": "stream",
     "text": [
      "Epoch 1/10\n",
      "6/6 [==============================] - 0s 6ms/step - loss: 0.1149 - mean_squared_logarithmic_error: 0.1162\n",
      "Epoch 2/10\n",
      "6/6 [==============================] - 0s 3ms/step - loss: 0.1065 - mean_squared_logarithmic_error: 0.1069\n",
      "Epoch 3/10\n",
      "6/6 [==============================] - 0s 3ms/step - loss: 0.1012 - mean_squared_logarithmic_error: 0.0994\n",
      "Epoch 4/10\n",
      "6/6 [==============================] - 0s 3ms/step - loss: 0.0976 - mean_squared_logarithmic_error: 0.0991\n",
      "Epoch 5/10\n",
      "6/6 [==============================] - 0s 3ms/step - loss: 0.1103 - mean_squared_logarithmic_error: 0.1111\n",
      "Epoch 6/10\n",
      "6/6 [==============================] - 0s 3ms/step - loss: 0.1063 - mean_squared_logarithmic_error: 0.1053\n",
      "Epoch 7/10\n",
      "6/6 [==============================] - 0s 3ms/step - loss: 0.1057 - mean_squared_logarithmic_error: 0.1057\n",
      "Epoch 8/10\n",
      "6/6 [==============================] - 0s 2ms/step - loss: 0.1044 - mean_squared_logarithmic_error: 0.1041\n",
      "Epoch 9/10\n",
      "6/6 [==============================] - 0s 3ms/step - loss: 0.0994 - mean_squared_logarithmic_error: 0.1019\n",
      "Epoch 10/10\n",
      "6/6 [==============================] - 0s 2ms/step - loss: 0.0936 - mean_squared_logarithmic_error: 0.0913\n"
     ]
    },
    {
     "data": {
      "text/plain": [
       "<keras.callbacks.History at 0x27462ac7fd0>"
      ]
     },
     "execution_count": 30,
     "metadata": {},
     "output_type": "execute_result"
    }
   ],
   "source": [
    "best_model.fit(\n",
    "                    X_train, \n",
    "                    y_train,\n",
    "                    epochs=10,\n",
    "                    batch_size=64\n",
    "                )"
   ]
  },
  {
   "cell_type": "code",
   "execution_count": 32,
   "id": "8431a52c-9796-43a5-9b7e-25676abb55a6",
   "metadata": {},
   "outputs": [
    {
     "data": {
      "text/plain": [
       "0.21627471"
      ]
     },
     "execution_count": 32,
     "metadata": {},
     "output_type": "execute_result"
    }
   ],
   "source": [
    "# mean squared logarithmic error\n",
    "msle(y_test, best_model.predict(X_test)).numpy()"
   ]
  },
  {
   "cell_type": "code",
   "execution_count": 33,
   "id": "522167d2-0294-47e6-8fce-63db70a798f6",
   "metadata": {},
   "outputs": [],
   "source": [
    "import tensorboard"
   ]
  },
  {
   "cell_type": "code",
   "execution_count": 34,
   "id": "e1ee20ea-8289-484a-8968-73454b26ac96",
   "metadata": {},
   "outputs": [],
   "source": [
    "%load_ext tensorboard"
   ]
  },
  {
   "cell_type": "code",
   "execution_count": 35,
   "id": "540f6ec9-9c5d-419c-8c49-e494da9541b3",
   "metadata": {},
   "outputs": [
    {
     "data": {
      "text/plain": [
       "'tf2_logs/20220420-151335/TensorBoard'"
      ]
     },
     "execution_count": 35,
     "metadata": {},
     "output_type": "execute_result"
    }
   ],
   "source": [
    "logdir_tensorboard"
   ]
  },
  {
   "cell_type": "code",
   "execution_count": 36,
   "id": "8cd737e2-c952-4219-bbd9-59b34d867be9",
   "metadata": {},
   "outputs": [
    {
     "data": {
      "text/html": [
       "\n",
       "      <iframe id=\"tensorboard-frame-7fa3e3d58e1eb4a8\" width=\"100%\" height=\"800\" frameborder=\"0\">\n",
       "      </iframe>\n",
       "      <script>\n",
       "        (function() {\n",
       "          const frame = document.getElementById(\"tensorboard-frame-7fa3e3d58e1eb4a8\");\n",
       "          const url = new URL(\"/\", window.location);\n",
       "          const port = 6006;\n",
       "          if (port) {\n",
       "            url.port = port;\n",
       "          }\n",
       "          frame.src = url;\n",
       "        })();\n",
       "      </script>\n",
       "    "
      ],
      "text/plain": [
       "<IPython.core.display.HTML object>"
      ]
     },
     "metadata": {},
     "output_type": "display_data"
    }
   ],
   "source": [
    "%tensorboard --logdir \"$logdir_tensorboard\""
   ]
  },
  {
   "cell_type": "code",
   "execution_count": null,
   "id": "1f5b63ea-7f19-4219-aba5-4f94b6832a91",
   "metadata": {},
   "outputs": [],
   "source": []
  }
 ],
 "metadata": {
  "kernelspec": {
   "display_name": "Python 3 (ipykernel)",
   "language": "python",
   "name": "python3"
  },
  "language_info": {
   "codemirror_mode": {
    "name": "ipython",
    "version": 3
   },
   "file_extension": ".py",
   "mimetype": "text/x-python",
   "name": "python",
   "nbconvert_exporter": "python",
   "pygments_lexer": "ipython3",
   "version": "3.9.7"
  }
 },
 "nbformat": 4,
 "nbformat_minor": 5
}
